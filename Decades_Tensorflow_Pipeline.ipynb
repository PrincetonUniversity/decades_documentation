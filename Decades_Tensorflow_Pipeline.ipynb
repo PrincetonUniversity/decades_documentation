{
 "cells": [
  {
   "cell_type": "markdown",
   "metadata": {},
   "source": [
    "# DECADES TensorFlow\n",
    "\n",
    "Welcome to the DECADES TensorFlow path! Here we will detail how to utilize the DECADES framework for neural net applications written in TensorFlow. \n",
    "\n",
    "## Keras\n",
    "\n",
    "[Keras](https://www.tensorflow.org/guide/keras) is a high-level API for building and training deep learning models in TensorFlow. This API allows you to easily write NN applications without having to worry about detailed TensorFlow backend functions. We support the entire Keras API, so you can utilize any Keras API function. Our main functions of interest are the commonly used functions that appear in many NN applications and largely contribute to total computation time. We list these functions below:"
   ]
  },
  {
   "cell_type": "markdown",
   "metadata": {},
   "source": [
    "Utilities:\n",
    "* datasets\n",
    "* initializers\n",
    "* metrics\n",
    "* models\n",
    "* utils\n",
    "\n",
    "Computation:\n",
    "* activations\n",
    "* elu\n",
    "* linear\n",
    "* relu\n",
    "* selu\n",
    "* sigmoid\n",
    "* softmax\n",
    "* tanh\n",
    "\t\t\n",
    "Layers:\n",
    "* Activation\n",
    "* Add\n",
    "* AveragePooling2D\n",
    "* BatchNormalization\n",
    "* Conv2D\n",
    "* Dense\n",
    "* (GRU)\n",
    "* (GRUCell)\n",
    "* (LSTM)\n",
    "* (LSTMCell)\n",
    "* MaxPool2D\n",
    "* Multiply\n",
    "* multiply\n",
    "* PReLU\n",
    "* ReLU\n",
    "* (Reshape)\n",
    "* (RNN)\n",
    "* (SimpleRNN)\n",
    "* (SimpleRNNCell)\n",
    "* Softmax\n",
    "* Subtract\n",
    "* subtract\n",
    "* (ZeroPadding2D)\n",
    "\n",
    "Losses\n",
    "\n",
    "Optimizers"
   ]
  },
  {
   "cell_type": "markdown",
   "metadata": {},
   "source": [
    "Please refer to the [Keras API documentation](https://www.tensorflow.org/guide/keras) for details on all Keras functions and their inputs. \n",
    "\n",
    "## Environment\n",
    "\n",
    "In order to run TensorFlow programs on the docker, you need the TensorFlow environment running. Once you're on the docker, perform the following:"
   ]
  },
  {
   "cell_type": "code",
   "execution_count": null,
   "metadata": {},
   "outputs": [],
   "source": [
    "conda activate tf"
   ]
  },
  {
   "cell_type": "markdown",
   "metadata": {},
   "source": [
    "## Writing Neural Net Applications with DECADES\n",
    "\n",
    "It is easy to use the DECADES framework when writing NN applications. You first write your application using Keras functions (you can find many examples [here](https://github.com/keras-team/keras/tree/master/examples)), like you normally would. Once you have written your application, you need to make two simple additions to invoke the DECADES TensorFlow library. \n",
    "\n",
    "First, import the DECADES TensorFlow library:"
   ]
  },
  {
   "cell_type": "code",
   "execution_count": null,
   "metadata": {},
   "outputs": [],
   "source": [
    "import DEC_TensorFlow as dtf"
   ]
  },
  {
   "cell_type": "markdown",
   "metadata": {},
   "source": [
    "This will incorporate the DECADES TensorFlow library so we can use its functions to generate a C++ translation of your NN application. We generate a C++ file so that we can feed it to our analysis tools that are built for C++ programs. The generated C++ will capture all of the important functions (highlighted above) and express them in C++ syntax so we can invoke DECADES accelerators and measure the performance and power of your application. \n",
    "\n",
    "To generate this C++ from running your application, you will need to add this function call at the very bottom of your `main()` function or your code. You can find examples of how to to run tensorflow applications with Decades pipeline [here](Tensorflow_Decades_Example.ipynb)"
   ]
  },
  {
   "cell_type": "code",
   "execution_count": null,
   "metadata": {},
   "outputs": [],
   "source": [
    "dtf.run(filename, tf.get_default_graph())"
   ]
  },
  {
   "cell_type": "markdown",
   "metadata": {},
   "source": [
    "where `filename` is the name you would like for your C++ file. It must end with `.cpp`.\n",
    "\n",
    "To go through an example, take a look [here](Tensorflow_Decades_Example.ipynb)."
   ]
  }
 ],
 "metadata": {
  "kernelspec": {
   "display_name": "Python 3",
   "language": "python",
   "name": "python3"
  },
  "language_info": {
   "codemirror_mode": {
    "name": "ipython",
    "version": 2
   },
   "file_extension": ".py",
   "mimetype": "text/x-python",
   "name": "python",
   "nbconvert_exporter": "python",
   "pygments_lexer": "ipython2",
   "version": "2.7.14"
  }
 },
 "nbformat": 4,
 "nbformat_minor": 2
}
