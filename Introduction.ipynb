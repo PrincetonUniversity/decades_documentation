{
 "cells": [
  {
   "cell_type": "markdown",
   "metadata": {},
   "source": [
    "# DECADES Programmer Guide\n",
    "\n",
    "Hello and welcome to the DECADES Programmer Guides!\n",
    "\n",
    "We're here to give you some guidance on efficiently programming and evaluating your programs on our new architecture, using our specialized language infastructures.\n",
    "\n",
    "\n",
    "#### Note\n",
    "\n",
    "This documentation is provided in jupyter notebooks, but not all notebooks are executable from start to finish. For one, they require the installation of all our specialized tools. We've provided these in a docker image for you, but unfortuantly we could not link it to the notebook.\n",
    "\n",
    "Instead these notebooks are intended as stylized READMEs. This is useful as our programming interfaces are largely in Python. All code in code blocks is executable in the right context (i.e. in the docker container). \n",
    "\n",
    "Because you are running our docker container on an x86 platform, your results will be provided through emulation on x86 and simulation. This guide will help you rapidly develop in emulation mode and switch to heavy-weight simulation when necessary.\n",
    "\n",
    "## Choose your own adventure...\n",
    "\n",
    "The workloads that the DECADES framework aims to accelerate come in two flavors:\n",
    "\n",
    "* [Neural Networks (Training and Inference)](Decades_Tensorflow_Pipeline.ipynb)\n",
    "* [Graph Analytics](Numba.ipynb)\n",
    "\n",
    "So we've provided two distinct, but natural paths for programming each type of workload. For NN training and inference, we've provided a large set of TensorFlow functions you can use. For graph analytics, we've provided a more general Python interface through Numba. \n",
    "\n",
    "Both of these tools are quite popular in recent years and if you've used any of them before, then you've got a great start! \n",
    "\n",
    "We'll briefly describe each path, link to their detailed documentation and then describe a general evaluation framework we've provided.\n",
    "\n",
    "### Programming DECADES with TensorFlow\n",
    "\n",
    "[TensorFlow](https://www.tensorflow.org) is a popular framework for programming neural network tasks. If your work load (i.e. a DNN application) uses a lot of tensor operations (activations, matrix multiplication, convolution), then this is the path for you!\n",
    "\n",
    "At a high level, programming with the DECADES platform through TensorFlow consists of writing your neural network using the library functions and passing our framework the computation graph. We then analyze the graph and simulate an execution of one batch of training (or inference) and report the results.\n",
    "\n",
    "Our DECADES infastructure can accelerate such workloads using a range of specialized accelerators. Details can be found [here](http://decades.cs.princeton.edu/).\n",
    "\n",
    "### Programming DECADES with Numba\n",
    "\n",
    "[Numba](https://numba.pydata.org) is a popular framework for writing high performance python code. The secret is that Numba compiles computationally heavy functions into [LLVM] (https://llvm.org), which can then be executed natively on the machine. If your workload is a graph analytics application; or simply an application that cannot easily be mapped to tensor operations, then this is the path for you!\n",
    "\n",
    "Our DECADES compiler infastructure is based on LLVM, so this is a natural fit for us to target!\n",
    "\n",
    "In this flow, you will write a single computation kernel using \n",
    "\n",
    "* [numpy](https://www.numpy.org) data structures and functions\n",
    "* our custom DECADES library, which mimics the [scipy](https://www.scipy.org) package\n",
    "* multiple threads (or tiles in DECADES parlance)\n",
    "\n",
    "This kernel is then compiled and launched through our framework. \n",
    "\n",
    "Our DECADES infastructure can accelerate such workloads using parallelism and a specialized latency hiding technique called _decoupled supply/compue_. More details can be found [here](http://mrmgroup.cs.princeton.edu/papers/taejun_micro15.pdf).\n",
    "\n",
    "## Evaluation\n",
    "\n",
    "Once you have written your kernel through one of the two flows above, it is time to evaluate it! We've provided some nice programs to help you do this. These programs will take your kernel and report execution metrics for:\n",
    "\n",
    "1. A baseline application/machine (e.g. as provided by an evaluation)\n",
    "2. Your application simulated on our projected future DECADES chip\n",
    "\n",
    "You can easily see speedups (or slowdowns if you aren't careful!).\n",
    "\n",
    "We can report on several metrics, but the default metric (and the one asked for in the project) is GOPs/Watt or Giga-operations per Watt.\n",
    "\n",
    "In case you are interested in other metrics, we can provide them as well. For these evaluation tools, please see the documentation [here](Evaluation_Guide.ipynb).\n",
    "\n",
    "## Lower Level Documentation\n",
    "\n",
    "We hope that users will mostly use our interfaces documented in this guide. However, our lower level tools are available and documented.\n",
    "\n",
    "Our tools are all available on the docker.\n",
    "\n",
    "Our lower level tools (e.g. C++ compiler, simulator) are documented [here](Low_Level_DECADES_Doc.pdf).\n",
    "\n",
    "## Summary\n",
    "\n",
    "DECADES can be programmed through two distinct, but natural paths: 1) Python TensorFlow or 2) Python Numba.\n",
    "\n",
    "These paths are a high-level interface to our lower level tools, which are also documented. \n",
    "\n",
    "In most cases, users do not need to be exposed to lower levels, and can perform rigorous evaluations just using our framework documented here.\n",
    "\n",
    "All tools are provided in a docker image.\n",
    "\n",
    "_Have fun!_"
   ]
  }
 ],
 "metadata": {
  "kernelspec": {
   "display_name": "Python 3",
   "language": "python",
   "name": "python3"
  },
  "language_info": {
   "codemirror_mode": {
    "name": "ipython",
    "version": 2
   },
   "file_extension": ".py",
   "mimetype": "text/x-python",
   "name": "python",
   "nbconvert_exporter": "python",
   "pygments_lexer": "ipython2",
   "version": "2.7.14"
  },
  "varInspector": {
   "cols": {
    "lenName": 16,
    "lenType": 16,
    "lenVar": 40
   },
   "kernels_config": {
    "python": {
     "delete_cmd_postfix": "",
     "delete_cmd_prefix": "del ",
     "library": "var_list.py",
     "varRefreshCmd": "print(var_dic_list())"
    },
    "r": {
     "delete_cmd_postfix": ") ",
     "delete_cmd_prefix": "rm(",
     "library": "var_list.r",
     "varRefreshCmd": "cat(var_dic_list()) "
    }
   },
   "types_to_exclude": [
    "module",
    "function",
    "builtin_function_or_method",
    "instance",
    "_Feature"
   ],
   "window_display": false
  }
 },
 "nbformat": 4,
 "nbformat_minor": 2
}
