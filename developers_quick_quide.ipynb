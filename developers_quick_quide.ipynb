{
 "cells": [
  {
   "cell_type": "markdown",
   "metadata": {},
   "source": [
    "# Developer's Quick Start Guide\n",
    "\n",
    "Hello and welcome to the DECADES platform!\n",
    "<br><br>\n",
    "In this document we provide links to reference documents you can go through to start your experience with developing with DECADES platform.  \n",
    "<br>\n",
    "To learn more about DECADES architecture, please have a look at some slides [here](DECADES_Doc_and_Specs.pdf)\n",
    "<br><br>\n",
    "A good place to start is the [Decades Programmer Guide](intro.ipynb). Here you can get a brief introduction to avaiable APIs in DECADES and get access to more documentation about them.\n",
    "<br><br>\n",
    "We recommend, next, to review these four documents:\n",
    " - **[Introduction to Numba and DEC++ Library:](kernel_implementation.ipynb)** This document will introduce you to programming with Python and Numba compiler as well as the DEC_Numba_Lib library we provide for rapid application development for graph applications.\n",
    " <br><br>\n",
    " - **[Guide for using DECADES kernel execution:](kernel_execution.ipynb)** This document will walk you through how you can write apps that can utilize DECADES hardware and compiler innovations.\n",
    " <br><br>\n",
    " - **[Introduction to executing Neural Net models:](tensorflow_api.ipynb)** This document will walk you through how you can utilize the DECADES platform in your Neural Networks models written with Python Tensorflow package.\n",
    "<br><br>\n",
    " - **[Evaluation Guide:](evaluation_guide.ipynb)** Finally, you can learn about how to evaluate the results of your tests you ran on different hardware and compiler settings through our simulator.\n",
    "\n"
   ]
  }
 ],
 "metadata": {
  "kernelspec": {
   "display_name": "Python 3",
   "language": "python",
   "name": "python3"
  },
  "language_info": {
   "codemirror_mode": {
    "name": "ipython",
    "version": 3
   },
   "file_extension": ".py",
   "mimetype": "text/x-python",
   "name": "python",
   "nbconvert_exporter": "python",
   "pygments_lexer": "ipython3",
   "version": "3.7.3"
  },
  "varInspector": {
   "cols": {
    "lenName": 16,
    "lenType": 16,
    "lenVar": 40
   },
   "kernels_config": {
    "python": {
     "delete_cmd_postfix": "",
     "delete_cmd_prefix": "del ",
     "library": "var_list.py",
     "varRefreshCmd": "print(var_dic_list())"
    },
    "r": {
     "delete_cmd_postfix": ") ",
     "delete_cmd_prefix": "rm(",
     "library": "var_list.r",
     "varRefreshCmd": "cat(var_dic_list()) "
    }
   },
   "types_to_exclude": [
    "module",
    "function",
    "builtin_function_or_method",
    "instance",
    "_Feature"
   ],
   "window_display": false
  }
 },
 "nbformat": 4,
 "nbformat_minor": 2
}
