{
 "cells": [
  {
   "cell_type": "markdown",
   "metadata": {},
   "source": [
    "# DECADES Numba Examples\n",
    "<br>\n",
    "<br>\n",
    "Here we will walk through two simple examples in their entirety for the Numba flow through DECADES.\n",
    "\n",
    "We will first do a matrix multiplication and then a reduction.\n",
    "\n",
    "Before reading this guide, we hope that you have gone over:\n",
    "\n",
    "1. [Intro to DECADES programming](intro.ipynb) document\n",
    "2. [Numba Kernel programming guide](kernel_implementation.ipynb)\n",
    "3. [Numba Kernel execution guide](kernel_execution.ipynb)\n",
    "\n",
    "<br>\n",
    "<br>\n",
    "\n",
    "## Location\n",
    "\n",
    "Both examples and their inputs can be found in the docker at: (/decades/applications/DEC_Kernel_Execution_Examples/)\n",
    "<br>\n",
    "<br>\n",
    "\n",
    "## Matrix Multiplication\n",
    "\n",
    "Ideally, if your workload was simply matrix multiplication, you should use the TensorFlow programming method for DECADES, as this can be computed using accelerators. However, matrix multiplication also makes a useful example. \n",
    "\n",
    "Lets compute C = A x B where A and B (and hence C) are square matrices with dimension (s x s). \n",
    "<br>\n",
    "<br>\n",
    "\n",
    "### Kernel\n",
    "\n",
    "We will start by writing our kernel. Recall from the Kernel Execution guide:\n",
    "\n",
    "1. kernels have no return value, except through arguments.\n",
    "2. need to be specified as an @njit numba kernel.\n",
    "3. take in a tid and num_tiles arg\n",
    "4. are compiled through the DEC_Pipeline\n",
    "\n"
   ]
  },
  {
   "cell_type": "code",
   "execution_count": null,
   "metadata": {},
   "outputs": [],
   "source": [
    "import numpy as np\n",
    "# include necessary packages\n",
    "from DEC_Pipeline import DEC_Pipeline, DEC_Options, decades_launch_kernel\n",
    "from numba import int32, njit\n",
    "\n",
    "@njit((int32[:,:],int32[:,:],int32[:,:], int32, int32, int32), nogil=True, pipeline_class=DEC_Pipeline)\n",
    "def mat_mul(C, A, B, s, tid, num_tiles):\n",
    "    for i in range(s):\n",
    "        for j in range(s):\n",
    "            val = 0\n",
    "            for k in range(s):\n",
    "                val += A[i,k] * B[k,j]\n",
    "            C[i,j] = val"
   ]
  },
  {
   "cell_type": "markdown",
   "metadata": {},
   "source": [
    "<br>\n",
    "<br>\n",
    "We hope this algorithm is not too difficult to follow. It can be found through any straightfoward google search on the subject\n",
    "<br>\n",
    "<br>\n",
    "\n",
    "### Using Threads\n",
    "\n",
    "The for loops are a good indication that this algorithm can be parallelized. It is straight forward to use `tid` and `num_tiles` to do this. For example, the outer most for loop can be computed in parallel. We can simply stride through this loop using `tid` and `num_tiles` and it will be valid for any number of tiles (including 1). Here is that kernel updated to use threads:\n",
    "\n"
   ]
  },
  {
   "cell_type": "code",
   "execution_count": null,
   "metadata": {},
   "outputs": [],
   "source": [
    "import numpy as np\n",
    "import sys # for command line args\n",
    "\n",
    "# include necessary DEC_Pipeline packages\n",
    "from DEC_Pipeline import DEC_Pipeline, DEC_Options, decades_launch_kernel\n",
    "from numba import int32, njit\n",
    "\n",
    "\n",
    "@njit((int32[:,:],int32[:,:],int32[:,:], int32, int32, int32), nogil=True, pipeline_class=DEC_Pipeline)\n",
    "def mat_mul(C, A, B, s, tid, num_tiles):\n",
    "    for i in range(tid, s, num_tiles):\n",
    "        for j in range(s):\n",
    "            val = 0\n",
    "            for k in range(s):\n",
    "                val += A[i, k] * B[k, j]\n",
    "            C[i, j] = val"
   ]
  },
  {
   "cell_type": "markdown",
   "metadata": {},
   "source": [
    "### Launching Kernel\n",
    "\n",
    "Recall from kernel execution documentation that we can now set some compiler options. For now, we will use the preset config (so that we can evaluate later using the evaluation programs, as documented in the [_evaluation guide_](evaluation_guide.ipynb))\n",
    "<br><br>\n",
    "Note that you will need to have these in a python file that can be executed from a terminal in order for the evaluator to run, so please don't copy paste these to a python console.\n",
    "<br><br>\n",
    "We will first read in some data. We could hard code some data, but the evaluation programs require a single file input. We will take as input a file with a single integer that describes the size of a matrix. In more realistic workflows, these inputs might be a graph structure representing a social media network\n",
    "<br><br>\n",
    "Then we generate some data for A and B. Make the array for C. And finally launch the kernel, and check the answer."
   ]
  },
  {
   "cell_type": "code",
   "execution_count": null,
   "metadata": {},
   "outputs": [],
   "source": [
    "# enter the mat_mul description we had above here.\n",
    "\n",
    "if __name__ == \"__main__\":\n",
    "\n",
    "    DEC_Options.preset_config()\n",
    "\n",
    "\n",
    "    with open(sys.argv[1],'r') as f:\n",
    "        matrix_size = int(f.read())\n",
    "\n",
    "\n",
    "        A = np.random.randint(2048, size=(matrix_size, matrix_size), dtype=np.int32)\n",
    "        B = np.random.randint(2048, size=(matrix_size, matrix_size), dtype=np.int32)\n",
    "        C = np.zeros(matrix_size * matrix_size, dtype=np.int32)\n",
    "\n",
    "        t = decades_launch_kernel(mat_mul, A, B, C, matrix_size)\n",
    "\n",
    "        C_cpu = np.dot(A,B)\n",
    "        assert(np.array_equal(C, C_cpu))\n",
    "        print(\"kernel execution time (seconds): \" + str(t))"
   ]
  },
  {
   "cell_type": "markdown",
   "metadata": {},
   "source": [
    "### Running the program\n",
    "\n",
    "To run the program, save it with the name \"mat_mul.py\" (this is important for the evaluation program) and then simply run it like a regular python script (creating an input file)."
   ]
  },
  {
   "cell_type": "raw",
   "metadata": {},
   "source": [
    "$ echo \"32\" > thirty_two.txt\n",
    "$ python mat_mul.py thirty_two.txt"
   ]
  },
  {
   "cell_type": "markdown",
   "metadata": {},
   "source": [
    "## Reduction\n",
    "\n",
    "We will now do a similar example for a reduction kernel. We will first do a thread local reduction, followed by a sequential reduction\n",
    "\n",
    "The arg will be a single array A and we will return the sum of all elements in A.\n",
    "\n",
    "<span style=\"background-color: #F8E0F7\"><font color=\"black\"> Remember!!! \n",
    "Only one kernel is allowed per script: this will need to be saved in a different script.</span>\n",
    "\n",
    "A reduction typically returns a single value, but we cannot return value directly. It is stored in an argument.\n",
    "<br>\n",
    "<br>\n",
    "### Kernel\n",
    "\n",
    "A simple single threaded variant looks like this"
   ]
  },
  {
   "cell_type": "code",
   "execution_count": null,
   "metadata": {},
   "outputs": [],
   "source": [
    "import numpy as np\n",
    "# include necessary packages\n",
    "from DEC_Pipeline import DEC_Pipeline, DEC_Options, decades_launch_kernel\n",
    "from numba import njit, int32\n",
    "\n",
    "\n",
    "@njit((int32[:],int32[:], int32, int32), nogil=True, pipeline_class=DEC_Pipeline)\n",
    "def sum_reduction(A, return_arg, tid, num_tiles):\n",
    "    return_value = 0\n",
    "    for i in range(len(A)):\n",
    "        return_value += A[i]\n",
    "    return_arg[0] = return_value"
   ]
  },
  {
   "cell_type": "markdown",
   "metadata": {},
   "source": [
    "<br><br>\n",
    "\n",
    "### Using Threads\n",
    "\n",
    "We now show a parallel variant, which chunks up the data and performs a sequential reduction. Note that we need to synchronize the decades tile between the parallel thread local reduction and the sequential final reduction.\n",
    "\n",
    "This can be done with the function PyDECADES_barrier as described in the [_kernel implementation_ ](kernel_implementation) documentation."
   ]
  },
  {
   "cell_type": "code",
   "execution_count": null,
   "metadata": {},
   "outputs": [],
   "source": [
    "import numpy as np\n",
    "# include necessary packages\n",
    "from DEC_Pipeline import DEC_Pipeline, DEC_Options, decades_launch_kernel\n",
    "from DEC_Numba_Lib import PyDECADES_barrier\n",
    "\n",
    "@njit((int32[:],int32[:], int32[:], int32, int32), nogil=True, pipeline_class=DEC_Pipeline)\n",
    "def sum_reduction(A, tile_local, return_arg, tid, num_tiles):\n",
    "    return_value = 0\n",
    "    \n",
    "    # ceiling division\n",
    "    chunk_size = ((len(A) - 1) / num_tiles) + 1\n",
    "    start_chunk = tid * chunk_size\n",
    "    end_chunk = start_chunk + chunk_size\n",
    "    \n",
    "    # so we don't overflow\n",
    "    end_chunk = min(len(A), end_chunk)\n",
    "    \n",
    "    # get a thread local reduction\n",
    "    for i in range(start_chunk, end_chunk):\n",
    "        tile_local[tid] += A[i]\n",
    "            \n",
    "    # synchronize decades tiles:\n",
    "    PyDECADES_barrier()\n",
    "    \n",
    "    # sequentially finish reduction\n",
    "    if tid == 0:\n",
    "        for i in range(num_tiles):\n",
    "            return_arg[0] += tile_local[i]"
   ]
  },
  {
   "cell_type": "markdown",
   "metadata": {},
   "source": [
    "### Launching the kernel\n",
    "\n",
    "Similar to the above, we will use the preset config. \n",
    "\n",
    "But we need to know how many threads the DECADES preset provides so that we can provide the `tile_local` array with enough space. For this we use the `DEC_Options.get_num_tiles()` function"
   ]
  },
  {
   "cell_type": "code",
   "execution_count": null,
   "metadata": {},
   "outputs": [],
   "source": [
    "# enter the ret_cpu description we had above here.\n",
    "\n",
    "if __name__ == \"__main__\":\n",
    "    DEC_Options.preset_config()\n",
    "    \n",
    "    num_tiles = DEC_Options.get_num_tiles()\n",
    "\n",
    "    # Read in file so that we can use evaluator scripts\n",
    "    with open(sys.argv[1],'r') as f:\n",
    "        vector_size = int(f.read())\n",
    "\n",
    "\n",
    "    A = np.random.randint(2048, size=(vector_size),dtype = np.int32)\n",
    "    thread_local = np.zeros(num_tiles, dtype=np.int32)\n",
    "    return_value = np.zeros(1, dtype = np.int32)\n",
    "    \n",
    "    t = decades_launch_kernel(sum_reduction, A, thread_local, return_value)\n",
    "    \n",
    "    ret_cpu = sum(A)\n",
    "    assert(ret_cpu==return_value[0])\n",
    "    print(\"kernel execution time (seconds): \" + str(t))"
   ]
  },
  {
   "cell_type": "markdown",
   "metadata": {},
   "source": [
    "### Running the Program\n",
    "\n",
    "to run the program, create a text file to read in and execute the python script"
   ]
  },
  {
   "cell_type": "raw",
   "metadata": {},
   "source": [
    "$ echo \"256\" > two_fifty_six.txt\n",
    "$ python mat_mul.py"
   ]
  },
  {
   "cell_type": "markdown",
   "metadata": {},
   "source": [
    "## Using the Evaluator\n",
    "\n",
    "To continue these examples with using the evaluator, please see the [evaluation documentation](evaluation_guide.ipynb)"
   ]
  },
  {
   "cell_type": "code",
   "execution_count": null,
   "metadata": {},
   "outputs": [],
   "source": []
  }
 ],
 "metadata": {
  "kernelspec": {
   "display_name": "Python 3",
   "language": "python",
   "name": "python3"
  },
  "language_info": {
   "codemirror_mode": {
    "name": "ipython",
    "version": 3
   },
   "file_extension": ".py",
   "mimetype": "text/x-python",
   "name": "python",
   "nbconvert_exporter": "python",
   "pygments_lexer": "ipython3",
   "version": "3.7.3"
  },
  "varInspector": {
   "cols": {
    "lenName": 16,
    "lenType": 16,
    "lenVar": 40
   },
   "kernels_config": {
    "python": {
     "delete_cmd_postfix": "",
     "delete_cmd_prefix": "del ",
     "library": "var_list.py",
     "varRefreshCmd": "print(var_dic_list())"
    },
    "r": {
     "delete_cmd_postfix": ") ",
     "delete_cmd_prefix": "rm(",
     "library": "var_list.r",
     "varRefreshCmd": "cat(var_dic_list()) "
    }
   },
   "types_to_exclude": [
    "module",
    "function",
    "builtin_function_or_method",
    "instance",
    "_Feature"
   ],
   "window_display": false
  }
 },
 "nbformat": 4,
 "nbformat_minor": 2
}
